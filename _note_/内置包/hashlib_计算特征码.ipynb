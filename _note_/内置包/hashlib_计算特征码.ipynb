{
  "cells": [
    {
      "cell_type": "code",
      "execution_count": 1,
      "outputs": [
        {
          "name": "stderr",
          "text": [
            "[INFO 7] E:\\Git\\NoteBook\\Python\\package\\System\\_code\\config_example.ini\n"
          ],
          "output_type": "stream"
        }
      ],
      "source": "import os\nimport logging\nimport hashlib\n\nlogging.basicConfig(level\u003dlogging.INFO, format\u003d\u0027[%(levelname)s %(lineno)d] %(message)s\u0027, )\n\nfile_path \u003d os.path.join(os.getcwd(), \u0027_code\u0027, \u0027config_example.ini\u0027)\nlogging.info(file_path)\n",
      "metadata": {
        "pycharm": {
          "metadata": false,
          "name": "#%%\n",
          "is_executing": false
        }
      }
    },
    {
      "cell_type": "code",
      "execution_count": 2,
      "outputs": [
        {
          "name": "stderr",
          "text": [
            "[INFO 11] 74bdfde0b5b5091da7cf5f6ec0e9b7ed\n"
          ],
          "output_type": "stream"
        }
      ],
      "source": "# 获取文件的md5值\nhash \u003d hashlib.md5()\nfile \u003d open(file_path, \u0027rb\u0027)\nwhile True:\n    data \u003d file.read(8096)\n    if not data:\n        break\n    hash.update(data)\nfile.close()\nmd5 \u003d hash.hexdigest()\nlogging.info(md5)\n",
      "metadata": {
        "pycharm": {
          "metadata": false,
          "name": "#%%\n",
          "is_executing": false
        }
      }
    },
    {
      "cell_type": "code",
      "execution_count": 4,
      "outputs": [
        {
          "name": "stderr",
          "text": [
            "[INFO 11] 507e6e0fef6bfb6174b7b644362bc832a3c2deb9\n"
          ],
          "output_type": "stream"
        }
      ],
      "source": "# 获取文件 SHA1\nhash \u003d hashlib.sha1()\nfile \u003d open(file_path, \u0027rb\u0027)\nwhile True:\n    byte \u003d file.read(8096)\n    if not byte:\n        break\n    hash.update(byte)\nfile.close()\nsha1 \u003d hash.hexdigest().lower()\nlogging.info(sha1)\n",
      "metadata": {
        "pycharm": {
          "metadata": false,
          "name": "#%%\n",
          "is_executing": false
        }
      }
    },
    {
      "cell_type": "code",
      "execution_count": 5,
      "outputs": [
        {
          "name": "stderr",
          "text": [
            "[INFO 5] 8c6976e5b5410415bde908bd4dee15dfb167a9c873fc4bb8a81f6f2ab448a918\n"
          ],
          "output_type": "stream"
        }
      ],
      "source": "# sha256加密\nhash \u003d hashlib.sha256()\nhash.update(\u0027admin\u0027.encode(\u0027utf-8\u0027))\nsha256 \u003d hash.hexdigest()\nlogging.info(sha256)\n",
      "metadata": {
        "pycharm": {
          "metadata": false,
          "name": "#%%\n",
          "is_executing": false
        }
      }
    },
    {
      "cell_type": "code",
      "execution_count": 6,
      "outputs": [
        {
          "name": "stderr",
          "text": [
            "[INFO 4] 21232f297a57a5a743894a0e4a801fc3\n"
          ],
          "output_type": "stream"
        }
      ],
      "source": "hash \u003d hashlib.md5()\nhash.update(\u0027admin\u0027.encode(\u0027utf-8\u0027))\nhash \u003d hash.hexdigest()\nlogging.info(hash)\n",
      "metadata": {
        "pycharm": {
          "metadata": false,
          "name": "#%%\n",
          "is_executing": false
        }
      }
    }
  ],
  "metadata": {
    "kernelspec": {
      "name": "python3",
      "language": "python",
      "display_name": "Python 3"
    },
    "language_info": {
      "codemirror_mode": {
        "name": "ipython",
        "version": 2
      },
      "file_extension": ".py",
      "mimetype": "text/x-python",
      "name": "python",
      "nbconvert_exporter": "python",
      "pygments_lexer": "ipython2",
      "version": "2.7.6"
    },
    "stem_cell": {
      "cell_type": "raw",
      "source": "",
      "metadata": {
        "pycharm": {
          "metadata": false
        }
      }
    }
  },
  "nbformat": 4,
  "nbformat_minor": 0
}