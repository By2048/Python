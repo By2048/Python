{
 "cells": [
  {
   "cell_type": "code",
   "execution_count": 1,
   "outputs": [],
   "source": [
    "from random import shuffle\n",
    "from functools import cmp_to_key\n",
    "\n",
    "def key(item):\n",
    "    return len(item)\n",
    "\n",
    "def cmp(a, b):\n",
    "    return len(a) - len(b)"
   ],
   "metadata": {
    "collapsed": false,
    "pycharm": {
     "name": "#%%\n"
    }
   }
  },
  {
   "cell_type": "code",
   "execution_count": 2,
   "outputs": [
    {
     "output_type": "stream",
     "name": "stdout",
     "text": [
      "['1', '1, 2, 3', '1, 2', '1, 2, 3, 4']\n"
     ]
    }
   ],
   "source": [
    "data = [\"1\", \"1, 2, 3\", \"1, 2\", \"1, 2, 3, 4\"]\n",
    "print(data)"
   ],
   "metadata": {
    "collapsed": false,
    "pycharm": {
     "name": "#%%\n"
    }
   }
  },
  {
   "cell_type": "code",
   "execution_count": 3,
   "outputs": [
    {
     "output_type": "stream",
     "name": "stdout",
     "text": [
      "['1', '1, 2', '1, 2, 3', '1, 2, 3, 4']\n"
     ]
    }
   ],
   "source": [
    "shuffle(data)\n",
    "data = sorted(data, key=cmp_to_key(cmp))\n",
    "print(data)"
   ],
   "metadata": {
    "collapsed": false,
    "pycharm": {
     "name": "#%%\n"
    }
   }
  },
  {
   "cell_type": "code",
   "execution_count": 4,
   "outputs": [
    {
     "output_type": "stream",
     "name": "stdout",
     "text": [
      "['1', '1, 2', '1, 2, 3', '1, 2, 3, 4']\n"
     ]
    }
   ],
   "source": [
    "shuffle(data)\n",
    "data.sort(key=cmp_to_key(cmp))\n",
    "print(data)"
   ],
   "metadata": {
    "collapsed": false,
    "pycharm": {
     "name": "#%%\n"
    }
   }
  },
  {
   "cell_type": "code",
   "execution_count": 5,
   "outputs": [
    {
     "output_type": "stream",
     "name": "stdout",
     "text": [
      "['1', '1, 2', '1, 2, 3', '1, 2, 3, 4']\n"
     ]
    }
   ],
   "source": [
    "shuffle(data)\n",
    "data = sorted(data, key=key)\n",
    "print(data)"
   ],
   "metadata": {
    "collapsed": false,
    "pycharm": {
     "name": "#%%\n"
    }
   }
  },
  {
   "cell_type": "code",
   "execution_count": 6,
   "outputs": [
    {
     "output_type": "stream",
     "name": "stdout",
     "text": [
      "['1', '1, 2', '1, 2, 3', '1, 2, 3, 4']\n"
     ]
    }
   ],
   "source": [
    "shuffle(data)\n",
    "data.sort(key=key)\n",
    "print(data)"
   ],
   "metadata": {
    "collapsed": false,
    "pycharm": {
     "name": "#%%\n"
    }
   }
  }
 ],
 "metadata": {
  "kernelspec": {
   "display_name": "Python 3",
   "language": "python",
   "name": "python3"
  },
  "language_info": {
   "codemirror_mode": {
    "name": "ipython",
    "version": 2
   },
   "file_extension": ".py",
   "mimetype": "text/x-python",
   "name": "python",
   "nbconvert_exporter": "python",
   "pygments_lexer": "ipython2",
   "version": "3.7.6-final"
  }
 },
 "nbformat": 4,
 "nbformat_minor": 0
}