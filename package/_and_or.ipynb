{
 "cells": [
  {
   "cell_type": "code",
   "execution_count": null,
   "metadata": {
    "collapsed": true,
    "pycharm": {
     "name": "#%%\n"
    }
   },
   "outputs": [],
   "source": [
    "# AND 从左到右扫描，返回第一个为假的表达式值，无假值则返回最后一个表达式值。\n",
    "print('a' and 'b')\n",
    "print({} and 'b')\n",
    "print('a' and 'b' and 'c')\n",
    "print()\n",
    "\n",
    "# OR 从左到右扫描，返回第一个为真的表达式值，无真值则返回最后一个表达式值。\n",
    "print('a' or 'b')\n",
    "print('' or 'b')\n",
    "print('' or [] or {})\n",
    "print()\n",
    "\n",
    "# and or搭配\n",
    "print(1 and 'a' or 'b')\n",
    "print(0 and 'a' or 'b')\n"
   ]
  }
 ],
 "metadata": {
  "language_info": {
   "codemirror_mode": {
    "name": "ipython",
    "version": 2
   },
   "file_extension": ".py",
   "mimetype": "text/x-python",
   "name": "python",
   "nbconvert_exporter": "python",
   "pygments_lexer": "ipython2",
   "version": "2.7.6"
  },
  "kernelspec": {
   "name": "python3",
   "language": "python",
   "display_name": "Python 3"
  },
  "pycharm": {
   "stem_cell": {
    "cell_type": "raw",
    "source": [],
    "metadata": {
     "collapsed": false
    }
   }
  }
 },
 "nbformat": 4,
 "nbformat_minor": 0
}